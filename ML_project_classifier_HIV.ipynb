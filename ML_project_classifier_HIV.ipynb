{
  "nbformat": 4,
  "nbformat_minor": 0,
  "metadata": {
    "colab": {
      "name": "ML_project_classifier_HIV.ipynb",
      "provenance": []
    },
    "kernelspec": {
      "name": "python3",
      "display_name": "Python 3"
    },
    "language_info": {
      "name": "python"
    }
  },
  "cells": [
    {
      "cell_type": "markdown",
      "metadata": {
        "id": "kwerH2nIWIJk"
      },
      "source": [
        "Different models are compared with to test the activity of different small molecules on the HIV virus.\n",
        "\n",
        "The feature vectors contains the numbers of functional groups in the small molecules and the labels are done as 2 or -1 depending if they are active or inactive. A total of 146 features is taken for each small molecule."
      ]
    },
    {
      "cell_type": "code",
      "metadata": {
        "id": "fitGTRU4Gk2f"
      },
      "source": [
        "# Importing different libraries\n",
        "import pandas as pd\n",
        "import numpy as np\n",
        "import matplotlib.pyplot as plt\n",
        "import statsmodels.api as sm\n",
        "\n",
        "# sklearn library\n",
        "from sklearn.preprocessing import StandardScaler\n",
        "from sklearn.pipeline import make_pipeline\n",
        "from sklearn import metrics\n",
        "from sklearn.metrics import confusion_matrix\n",
        "from sklearn.metrics import f1_score\n",
        "from sklearn.model_selection import train_test_split\n",
        "\n",
        "from sklearn.tree import DecisionTreeClassifier\n",
        "from sklearn.naive_bayes import GaussianNB\n",
        "from sklearn.ensemble import RandomForestClassifier\n",
        "from sklearn.svm import SVC\n",
        "from sklearn.linear_model import SGDClassifier"
      ],
      "execution_count": 10,
      "outputs": []
    },
    {
      "cell_type": "code",
      "metadata": {
        "id": "tKmCy-vwK5f2"
      },
      "source": [
        "# Matrix reading from the files\n",
        "def read_file(txt_file, mat_a):\n",
        "    file = open(txt_file, \"r\")\n",
        "    for line in file:\n",
        "        ns = line.split()\n",
        "        no = [float(n) for n in ns]\n",
        "        mat_a.append(no)\n",
        "    file.close()\n",
        "X = []\n",
        "Y = []\n",
        "read_file(\"hiv_inhibitors.txt\", X)\n",
        "read_file(\"hiv_activity.txt\", Y)\n",
        "#print(X)\n",
        "#print(Y)\n"
      ],
      "execution_count": 11,
      "outputs": []
    },
    {
      "cell_type": "code",
      "metadata": {
        "id": "nnzvLE2XMKMS"
      },
      "source": [
        "# Creating training and testing data\n",
        "X_train, X_test, Y_train, Y_test = train_test_split(X, Y, test_size=0.3, random_state=42)\n",
        "#print(Y_test)\n",
        "\n",
        "# Standardizing the data\n",
        "ss=StandardScaler()\n",
        "X_train_st=ss.fit_transform(X_train)\n",
        "X_test_st=ss.fit_transform(X_test)"
      ],
      "execution_count": 12,
      "outputs": []
    },
    {
      "cell_type": "code",
      "metadata": {
        "colab": {
          "base_uri": "https://localhost:8080/"
        },
        "id": "llY7fJcdMbRm",
        "outputId": "cf6f125a-37cb-4c36-a9d4-6e3f98b4c176"
      },
      "source": [
        "#Decision Tree Clasifier\n",
        "\n",
        "# Training Decision tree model\n",
        "DTClassifier=DecisionTreeClassifier(criterion='entropy', random_state=42)\n",
        "DTClassifier.fit(X_train,Y_train)\n",
        "\n",
        "# Testing\n",
        "Y_pred = DTClassifier.predict(X_test)\n",
        "\n",
        "# Accuracy of the model\n",
        "#\n",
        "print('The accuracy of decision tree is: ', metrics.accuracy_score(Y_pred,Y_test))\n",
        "\n",
        "# Confusion Matrix\n",
        "print(confusion_matrix(Y_pred, Y_test))\n",
        "\n",
        "# Different f1 scores\n",
        "print('F1 Score with macro average: ',f1_score(Y_test, Y_pred, average='macro'))\n",
        "print('F1 Score with micro average: ',f1_score(Y_test, Y_pred, average='micro'))\n",
        "print('F1 Score with weighted average: ',f1_score(Y_test, Y_pred, average='weighted'))"
      ],
      "execution_count": 13,
      "outputs": [
        {
          "output_type": "stream",
          "name": "stdout",
          "text": [
            "The accuracy of decision tree is:  0.89\n",
            "[[247  20]\n",
            " [ 13  20]]\n",
            "F1 Score with macro average:  0.7426633048270126\n",
            "F1 Score with micro average:  0.89\n",
            "F1 Score with weighted average:  0.8854565776818901\n"
          ]
        }
      ]
    },
    {
      "cell_type": "code",
      "metadata": {
        "colab": {
          "base_uri": "https://localhost:8080/"
        },
        "id": "HrOEExCMOQrq",
        "outputId": "8373462e-660e-451d-beca-dd7b1b6ec6f6"
      },
      "source": [
        "Y_train_np = np.array(Y_train)\n",
        "\n",
        "#Naive Bayes Classifier\n",
        "# Training the model\n",
        "NBClassifier=GaussianNB()\n",
        "NBClassifier.fit(X_train_st, Y_train_np.ravel())\n",
        "\n",
        "# Testing\n",
        "Y_pred1 = NBClassifier.predict(X_test)\n",
        "\n",
        "# Accuracy of the model\n",
        "print('The accuracy of Naive baise is: ', metrics.accuracy_score(Y_pred1, Y_test))\n",
        "\n",
        "# Confusion Matrix\n",
        "print(confusion_matrix(Y_pred1, Y_test))\n",
        "\n",
        "# Different f1 scores\n",
        "print('F1 Score with macro average: ',f1_score(Y_test, Y_pred1, average='macro'))\n",
        "print('F1 Score with micro average: ',f1_score(Y_test, Y_pred1, average='micro'))\n",
        "print('F1 Score with weighted average: ',f1_score(Y_test, Y_pred1, average='weighted'))"
      ],
      "execution_count": 14,
      "outputs": [
        {
          "output_type": "stream",
          "name": "stdout",
          "text": [
            "The accuracy of Naive baise is:  0.86\n",
            "[[258  40]\n",
            " [  2   0]]\n",
            "F1 Score with macro average:  0.46236559139784944\n",
            "F1 Score with micro average:  0.8599999999999999\n",
            "F1 Score with weighted average:  0.8014336917562723\n"
          ]
        }
      ]
    },
    {
      "cell_type": "code",
      "metadata": {
        "colab": {
          "base_uri": "https://localhost:8080/"
        },
        "id": "KY2CYn5-RJle",
        "outputId": "55477d36-4438-4d03-d1c6-6d9f3ccd7ac5"
      },
      "source": [
        "#Random Forest Classifier Algorithm\n",
        "\n",
        "# Training the model\n",
        "model = RandomForestClassifier(n_estimators=10, random_state=25)\n",
        "model.fit(X_train, Y_train_np.ravel())\n",
        "\n",
        "# Testing\n",
        "Y_pred2 = model.predict(X_test)\n",
        "\n",
        "# Accuracy of the model\n",
        "print('The accuracy of Random Forest Classifier is: ', metrics.accuracy_score(Y_pred2,Y_test))\n",
        "\n",
        "# Confusion Matrix\n",
        "print(confusion_matrix(Y_pred2, Y_test))\n",
        "\n",
        "# Different f1 scores\n",
        "print('F1 Score with macro average: ',f1_score(Y_test, Y_pred2, average='macro'))\n",
        "print('F1 Score with micro average: ',f1_score(Y_test, Y_pred2, average='micro'))\n",
        "print('F1 Score with weighted average: ',f1_score(Y_test, Y_pred2, average='weighted'))"
      ],
      "execution_count": 15,
      "outputs": [
        {
          "output_type": "stream",
          "name": "stdout",
          "text": [
            "The accuracy of Random Forest Classifier is:  0.92\n",
            "[[258  22]\n",
            " [  2  18]]\n",
            "F1 Score with macro average:  0.7777777777777778\n",
            "F1 Score with micro average:  0.92\n",
            "F1 Score with weighted average:  0.9081481481481481\n"
          ]
        }
      ]
    },
    {
      "cell_type": "code",
      "metadata": {
        "colab": {
          "base_uri": "https://localhost:8080/"
        },
        "id": "ZXSWP9yzR48p",
        "outputId": "8445ddc9-ef24-413b-8b70-4c50be96c476"
      },
      "source": [
        "#SVM \n",
        "\n",
        "# Training the model\n",
        "classifier_object = SVC(kernel ='linear', gamma='auto', C=2)\n",
        "classifier_object = SVC(probability=True)\n",
        "classifier_object.fit(X_train, Y_train_np.ravel())\n",
        "\n",
        "# Testing \n",
        "Y_pred3 = classifier_object.predict(X_test)\n",
        "\n",
        "# Accuracy of the model\n",
        "print('The accuracy of Support Vector Classifier is: ', metrics.accuracy_score(Y_pred3,Y_test))\n",
        "\n",
        "# Confusion Matrix\n",
        "print(confusion_matrix(Y_pred3, Y_test))\n",
        "\n",
        "# Different f1 scores\n",
        "print('F1 Score with macro average: ',f1_score(Y_test, Y_pred3, average='macro'))\n",
        "print('F1 Score with micro average: ',f1_score(Y_test, Y_pred3, average='micro'))\n",
        "print('F1 Score with weighted average: ',f1_score(Y_test, Y_pred3, average='weighted'))"
      ],
      "execution_count": 16,
      "outputs": [
        {
          "output_type": "stream",
          "name": "stdout",
          "text": [
            "The accuracy of Support Vector Classifier is:  0.8966666666666666\n",
            "[[260  31]\n",
            " [  0   9]]\n",
            "F1 Score with macro average:  0.655542797881403\n",
            "F1 Score with micro average:  0.8966666666666666\n",
            "F1 Score with weighted average:  0.8668864278923911\n"
          ]
        }
      ]
    },
    {
      "cell_type": "code",
      "metadata": {
        "colab": {
          "base_uri": "https://localhost:8080/"
        },
        "id": "Gk_S8FYqTTDX",
        "outputId": "e021fb67-8dcf-4512-8ec9-46516f722237"
      },
      "source": [
        "# SGD model\n",
        "\n",
        "#Training the model\n",
        "classifier_Sgd = make_pipeline(StandardScaler(),SGDClassifier(max_iter=1000, tol=1e-3))\n",
        "classifier_Sgd.fit(X_train, Y_train_np.ravel())\n",
        "\n",
        "#Testing the model\n",
        "Y_pred4 = classifier_Sgd.predict(X_test)\n",
        "\n",
        "# Accuracy of the model\n",
        "print('The accuracy of Stochastic Gradient Descent Classifier is: ', metrics.accuracy_score(Y_pred4,Y_test))\n",
        "\n",
        "# Confusion Matrix\n",
        "print(confusion_matrix(Y_pred4, Y_test))\n",
        "\n",
        "# Different f1 scores\n",
        "print('F1 Score with macro average: ',f1_score(Y_test, Y_pred4, average='macro'))\n",
        "print('F1 Score with micro average: ',f1_score(Y_test, Y_pred4, average='micro'))\n",
        "print('F1 Score with weighted average: ',f1_score(Y_test, Y_pred4, average='weighted'))"
      ],
      "execution_count": 17,
      "outputs": [
        {
          "output_type": "stream",
          "name": "stdout",
          "text": [
            "The accuracy of Stochastic Gradient Descent Classifier is:  0.8633333333333333\n",
            "[[241  22]\n",
            " [ 19  18]]\n",
            "F1 Score with macro average:  0.6945692930396563\n",
            "F1 Score with micro average:  0.8633333333333333\n",
            "F1 Score with weighted average:  0.8610629650782615\n"
          ]
        }
      ]
    }
  ]
}